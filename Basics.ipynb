{
  "nbformat": 4,
  "nbformat_minor": 0,
  "metadata": {
    "colab": {
      "name": "Untitled0.ipynb",
      "provenance": [],
      "collapsed_sections": [],
      "authorship_tag": "ABX9TyNeTQUq3ro/tABkyNstNSey",
      "include_colab_link": true
    },
    "kernelspec": {
      "name": "python3",
      "display_name": "Python 3"
    },
    "language_info": {
      "name": "python"
    }
  },
  "cells": [
    {
      "cell_type": "markdown",
      "metadata": {
        "id": "view-in-github",
        "colab_type": "text"
      },
      "source": [
        "<a href=\"https://colab.research.google.com/github/taufeeque9/FMDS/blob/main/Basics.ipynb\" target=\"_parent\"><img src=\"https://colab.research.google.com/assets/colab-badge.svg\" alt=\"Open In Colab\"/></a>"
      ]
    },
    {
      "cell_type": "code",
      "execution_count": 166,
      "metadata": {
        "colab": {
          "base_uri": "https://localhost:8080/"
        },
        "id": "zRhztAsvpjFC",
        "outputId": "deefc26d-5b92-4890-cb63-dead27950372"
      },
      "outputs": [
        {
          "output_type": "stream",
          "name": "stdout",
          "text": [
            "3 <class 'int'>\n",
            "4\n",
            "2\n",
            "12\n",
            "9\n",
            "1.5\n",
            "1\n"
          ]
        }
      ],
      "source": [
        "x=3\n",
        "print(x,type(x))\n",
        "print(x+1)\n",
        "print(x-1)\n",
        "print(x*4)\n",
        "print(x**2)\n",
        "print(x/2)\n",
        "print(x%2)\n",
        "\n"
      ]
    },
    {
      "cell_type": "code",
      "source": [
        "x=8\n",
        "x=x+1\n",
        "print(x)\n",
        "x=x*2\n",
        "print(x)\n",
        "x=x**3\n",
        "print(x)"
      ],
      "metadata": {
        "colab": {
          "base_uri": "https://localhost:8080/"
        },
        "id": "xThu63fVr4UP",
        "outputId": "09f8bb2c-3481-4ff5-e65b-56cabe6b7d09"
      },
      "execution_count": 167,
      "outputs": [
        {
          "output_type": "stream",
          "name": "stdout",
          "text": [
            "9\n",
            "18\n",
            "5832\n"
          ]
        }
      ]
    },
    {
      "cell_type": "code",
      "source": [
        "x=2.3\n",
        "print(type(x))\n",
        "print(x,x+1,x*4)"
      ],
      "metadata": {
        "colab": {
          "base_uri": "https://localhost:8080/"
        },
        "id": "yI10mKYdr4Qv",
        "outputId": "52de3ed7-7bb1-4307-8027-22b40405a5b3"
      },
      "execution_count": 168,
      "outputs": [
        {
          "output_type": "stream",
          "name": "stdout",
          "text": [
            "<class 'float'>\n",
            "2.3 3.3 9.2\n"
          ]
        }
      ]
    },
    {
      "cell_type": "code",
      "source": [
        "t,f=True,False\n",
        "print(type(t))\n",
        "print(type(f))"
      ],
      "metadata": {
        "colab": {
          "base_uri": "https://localhost:8080/"
        },
        "id": "0JDcH9utHRbD",
        "outputId": "f2b6c6d9-0eb9-440d-b537-01eca6d6e266"
      },
      "execution_count": 169,
      "outputs": [
        {
          "output_type": "stream",
          "name": "stdout",
          "text": [
            "<class 'bool'>\n",
            "<class 'bool'>\n"
          ]
        }
      ]
    },
    {
      "cell_type": "code",
      "source": [
        "print(t and f)\n",
        "print(t or f)\n",
        "print(not f)\n",
        "print(t !=f)\n",
        "\n"
      ],
      "metadata": {
        "colab": {
          "base_uri": "https://localhost:8080/"
        },
        "id": "XE8DGq5PHhHj",
        "outputId": "be00f966-8059-4a34-ab4a-2d0822ae0f04"
      },
      "execution_count": 170,
      "outputs": [
        {
          "output_type": "stream",
          "name": "stdout",
          "text": [
            "False\n",
            "True\n",
            "True\n",
            "True\n"
          ]
        }
      ]
    },
    {
      "cell_type": "code",
      "source": [
        "hello=\"hello\"\n",
        "world=\"world\"\n",
        "abcdefghijklmnopqrstuvwxyz=\"abcdefghijklmnopqrstuvwxyz\"\n",
        "print(hello,len(hello),len(abcdefghijklmnopqrstuvwxyz))\n"
      ],
      "metadata": {
        "colab": {
          "base_uri": "https://localhost:8080/"
        },
        "id": "3ZvYJIml5--U",
        "outputId": "378db92e-2f6f-46e7-d171-610b0604a52f"
      },
      "execution_count": 171,
      "outputs": [
        {
          "output_type": "stream",
          "name": "stdout",
          "text": [
            "hello 5 26\n"
          ]
        }
      ]
    },
    {
      "cell_type": "code",
      "source": [
        "hello='hello'\n",
        "world='world'\n",
        "hw=hello +  world\n",
        "kw=hello + ' ' + world\n",
        "print(hw)\n",
        "print(kw)\n",
        "hw12='{} {} {}'.format(hello,world,12)\n",
        "print(hw12)\n"
      ],
      "metadata": {
        "colab": {
          "base_uri": "https://localhost:8080/"
        },
        "id": "euo4OFE17pca",
        "outputId": "dd0e6d42-b8d2-426a-cdfa-47ef5e5e98ea"
      },
      "execution_count": 172,
      "outputs": [
        {
          "output_type": "stream",
          "name": "stdout",
          "text": [
            "helloworld\n",
            "hello world\n",
            "hello world 12\n"
          ]
        }
      ]
    },
    {
      "cell_type": "code",
      "source": [
        "s='hello'\n",
        "k='NIDHI'\n",
        "print(s.capitalize())\n",
        "print(s.upper())\n",
        "print(k.lower())\n",
        "print(k.rjust(7))\n",
        "print(k.center(7))\n",
        "print(s.casefold())\n",
        "print(s.replace('l','el'))"
      ],
      "metadata": {
        "colab": {
          "base_uri": "https://localhost:8080/"
        },
        "id": "LttOkuW-_ceQ",
        "outputId": "bf33ea13-6f27-492d-c0f1-81832667cb6b"
      },
      "execution_count": 173,
      "outputs": [
        {
          "output_type": "stream",
          "name": "stdout",
          "text": [
            "Hello\n",
            "HELLO\n",
            "nidhi\n",
            "  NIDHI\n",
            " NIDHI \n",
            "hello\n",
            "heelelo\n"
          ]
        }
      ]
    },
    {
      "cell_type": "markdown",
      "source": [
        "containers"
      ],
      "metadata": {
        "id": "JmDowOTjGv44"
      }
    },
    {
      "cell_type": "code",
      "source": [
        "s=[3, 1, 4, 7, 8, 9]\n",
        "s[2]='Nidhi'\n",
        "print(s,s[4])\n",
        "print(s[-4])\n"
      ],
      "metadata": {
        "colab": {
          "base_uri": "https://localhost:8080/"
        },
        "id": "E-JG4y7vG22o",
        "outputId": "24c14269-18c2-474f-eebe-baf63ce3305c"
      },
      "execution_count": 174,
      "outputs": [
        {
          "output_type": "stream",
          "name": "stdout",
          "text": [
            "[3, 1, 'Nidhi', 7, 8, 9] 8\n",
            "Nidhi\n"
          ]
        }
      ]
    },
    {
      "cell_type": "code",
      "source": [
        "s=[3, 1, 4, 7, 8, 9]\n",
        "s.append('Yatharth')\n",
        "print(s)"
      ],
      "metadata": {
        "colab": {
          "base_uri": "https://localhost:8080/"
        },
        "id": "K_KQixecLuZQ",
        "outputId": "41a9d679-e0dc-475a-b903-42ea85a67b6d"
      },
      "execution_count": 175,
      "outputs": [
        {
          "output_type": "stream",
          "name": "stdout",
          "text": [
            "[3, 1, 4, 7, 8, 9, 'Yatharth']\n"
          ]
        }
      ]
    },
    {
      "cell_type": "code",
      "source": [
        "s=[3, 1, 4, 7, 8, 9, 'Ice', 'cream']\n",
        "s.pop()\n",
        "print(s)"
      ],
      "metadata": {
        "colab": {
          "base_uri": "https://localhost:8080/"
        },
        "id": "Y47t3efI9vVX",
        "outputId": "47efdecf-5201-40a5-dc55-25453d25da8c"
      },
      "execution_count": 176,
      "outputs": [
        {
          "output_type": "stream",
          "name": "stdout",
          "text": [
            "[3, 1, 4, 7, 8, 9, 'Ice']\n"
          ]
        }
      ]
    },
    {
      "cell_type": "code",
      "source": [
        "number=list(range(6))\n",
        "print(number)\n",
        "print(number[2:4])\n",
        "print(number[2:])\n",
        "print(number[:4])\n",
        "print(number[:])\n",
        "print(number[:-1])\n",
        "number[2:3]=[7,8]\n",
        "print(number)\n"
      ],
      "metadata": {
        "colab": {
          "base_uri": "https://localhost:8080/"
        },
        "id": "3r95li2oMcnl",
        "outputId": "3fcd55e0-bec0-44c6-86f8-db4861162172"
      },
      "execution_count": 177,
      "outputs": [
        {
          "output_type": "stream",
          "name": "stdout",
          "text": [
            "[0, 1, 2, 3, 4, 5]\n",
            "[2, 3]\n",
            "[2, 3, 4, 5]\n",
            "[0, 1, 2, 3]\n",
            "[0, 1, 2, 3, 4, 5]\n",
            "[0, 1, 2, 3, 4]\n",
            "[0, 1, 7, 8, 3, 4, 5]\n"
          ]
        }
      ]
    },
    {
      "cell_type": "code",
      "source": [
        "Aashi=['Aaashi','ek','moti','aalsi','aur','shaitan','ladki','hai']\n",
        "for i in Aashi:\n",
        "  print(i)\n"
      ],
      "metadata": {
        "colab": {
          "base_uri": "https://localhost:8080/"
        },
        "id": "7XaT-CgZrERQ",
        "outputId": "fa95e09c-cab6-45e2-8d78-5e836cd9ef64"
      },
      "execution_count": 178,
      "outputs": [
        {
          "output_type": "stream",
          "name": "stdout",
          "text": [
            "Aaashi\n",
            "ek\n",
            "moti\n",
            "aalsi\n",
            "aur\n",
            "shaitan\n",
            "ladki\n",
            "hai\n"
          ]
        }
      ]
    },
    {
      "cell_type": "code",
      "source": [
        "A=(\"1\",\"2\",\"3\")\n",
        "print(A)\n",
        "a=(1,2,3)\n",
        "print(max(a))\n",
        "print(a)\n",
        "#tuple does not support immutability that is changing of items once created"
      ],
      "metadata": {
        "colab": {
          "base_uri": "https://localhost:8080/"
        },
        "id": "H0FFsV4mSMog",
        "outputId": "c6dfef55-5f39-4345-9951-3dd5c01a1932"
      },
      "execution_count": 179,
      "outputs": [
        {
          "output_type": "stream",
          "name": "stdout",
          "text": [
            "('1', '2', '3')\n",
            "3\n",
            "(1, 2, 3)\n"
          ]
        }
      ]
    },
    {
      "cell_type": "code",
      "source": [
        "C=(\"chotu janvar h\",) * 1\n",
        "print(C)\n"
      ],
      "metadata": {
        "colab": {
          "base_uri": "https://localhost:8080/"
        },
        "id": "WkusiglLSxTn",
        "outputId": "7c6b6ce4-13ed-4297-9d7a-70d3b7332c5d"
      },
      "execution_count": 180,
      "outputs": [
        {
          "output_type": "stream",
          "name": "stdout",
          "text": [
            "('chotu janvar h',)\n"
          ]
        }
      ]
    },
    {
      "cell_type": "code",
      "source": [
        "d={\"Nidhi\":19,\"Chotu\":15,\"chhavi\":20}\n",
        "for key, value in d.items():\n",
        "  print(key)\n"
      ],
      "metadata": {
        "colab": {
          "base_uri": "https://localhost:8080/"
        },
        "id": "VhOxYMhAZd1M",
        "outputId": "1797d8fd-a722-4b1f-9f9e-e307c09127c0"
      },
      "execution_count": 181,
      "outputs": [
        {
          "output_type": "stream",
          "name": "stdout",
          "text": [
            "Nidhi\n",
            "Chotu\n",
            "chhavi\n"
          ]
        }
      ]
    },
    {
      "cell_type": "code",
      "source": [
        "ex1=5\n",
        "ex2=-5\n",
        "print(abs(ex2))\n",
        "if abs(ex2)==-ex1 :\n",
        "  print(\"both are same\")\n",
        "elif ex2==(ex1) :\n",
        "  print(\"kuchnhi\")\n",
        "else :\n",
        "  print(\"both diff \")\n",
        "\n"
      ],
      "metadata": {
        "colab": {
          "base_uri": "https://localhost:8080/"
        },
        "id": "U9FwZhqAPY6K",
        "outputId": "66e940e4-ba42-41da-89a4-c442083e70e0"
      },
      "execution_count": 189,
      "outputs": [
        {
          "output_type": "stream",
          "name": "stdout",
          "text": [
            "5\n",
            "both diff \n"
          ]
        }
      ]
    },
    {
      "cell_type": "code",
      "source": [
        "print(round(1.68678,3))"
      ],
      "metadata": {
        "colab": {
          "base_uri": "https://localhost:8080/"
        },
        "id": "MhLxws4GPWpW",
        "outputId": "832c4eb1-85a9-40a6-acf7-382a81a5bf48"
      },
      "execution_count": 197,
      "outputs": [
        {
          "output_type": "stream",
          "name": "stdout",
          "text": [
            "1.687\n"
          ]
        }
      ]
    },
    {
      "cell_type": "code",
      "source": [
        "x=[0,2,4,6]\n",
        "sorted(x,reverse=False)"
      ],
      "metadata": {
        "colab": {
          "base_uri": "https://localhost:8080/"
        },
        "id": "5uBDS0YYQdKP",
        "outputId": "94f15f89-e097-42b3-d612-d7925398bd0f"
      },
      "execution_count": 201,
      "outputs": [
        {
          "output_type": "execute_result",
          "data": {
            "text/plain": [
              "[0, 2, 4, 6]"
            ]
          },
          "metadata": {},
          "execution_count": 201
        }
      ]
    },
    {
      "cell_type": "code",
      "source": [
        "#defining of functions\n",
        "#once fun is made we have to use it somewhere\n",
        "def bitcoin_to_usd(n) :\n",
        "  amount_in_usd=(n)*527\n",
        "  print(amount_in_usd)\n",
        "bitcoin_to_usd(56)  \n",
        "bitcoin_to_usd(78)  \n",
        "bitcoin_to_usd(90)  \n",
        "bitcoin_to_usd(45)  \n",
        "bitcoin_to_usd(234)  \n",
        " \n"
      ],
      "metadata": {
        "colab": {
          "base_uri": "https://localhost:8080/"
        },
        "id": "cqsxFM0BxzSz",
        "outputId": "29275f40-eb16-4434-b164-ee6c341716bd"
      },
      "execution_count": 8,
      "outputs": [
        {
          "output_type": "stream",
          "name": "stdout",
          "text": [
            "29512\n",
            "41106\n",
            "47430\n",
            "23715\n",
            "123318\n"
          ]
        }
      ]
    },
    {
      "cell_type": "code",
      "source": [
        "def prnt(k) :\n",
        "  print(\"yes,you are mad\")\n",
        "prnt(8)"
      ],
      "metadata": {
        "colab": {
          "base_uri": "https://localhost:8080/"
        },
        "id": "7BLd2xX62mbc",
        "outputId": "faff640e-ade5-4c3c-d07a-762c04ae4144"
      },
      "execution_count": 12,
      "outputs": [
        {
          "output_type": "stream",
          "name": "stdout",
          "text": [
            "yes,you are mad\n"
          ]
        }
      ]
    },
    {
      "cell_type": "code",
      "source": [
        "import calendar \n",
        "cal=calendar.month(2022,6)\n",
        "print(cal)"
      ],
      "metadata": {
        "colab": {
          "base_uri": "https://localhost:8080/"
        },
        "id": "U79oK-LNwx42",
        "outputId": "2c72a1bd-b117-4220-b481-a76a21cb2106"
      },
      "execution_count": 2,
      "outputs": [
        {
          "output_type": "stream",
          "name": "stdout",
          "text": [
            "     June 2022\n",
            "Mo Tu We Th Fr Sa Su\n",
            "       1  2  3  4  5\n",
            " 6  7  8  9 10 11 12\n",
            "13 14 15 16 17 18 19\n",
            "20 21 22 23 24 25 26\n",
            "27 28 29 30\n",
            "\n"
          ]
        }
      ]
    },
    {
      "cell_type": "code",
      "source": [
        "import math\n",
        "a=pow(2,5)\n",
        "print(a)\n",
        "\n"
      ],
      "metadata": {
        "colab": {
          "base_uri": "https://localhost:8080/"
        },
        "id": "pv1LqnqmxOKw",
        "outputId": "b6d2a501-6847-4d4b-df6d-800df257d046"
      },
      "execution_count": 11,
      "outputs": [
        {
          "output_type": "stream",
          "name": "stdout",
          "text": [
            "32\n"
          ]
        }
      ]
    },
    {
      "cell_type": "code",
      "source": [
        "#dir() command can be used to know the no of commmands present in a module/in a package.\n",
        "#2016 is leap year or not\n",
        "import math\n",
        "calendar.isleap(2022)\n",
        "dir(calendar)"
      ],
      "metadata": {
        "colab": {
          "base_uri": "https://localhost:8080/"
        },
        "id": "XV027u8exq3G",
        "outputId": "5ee7d386-bd37-4830-a7d7-b631169c2fb7"
      },
      "execution_count": 14,
      "outputs": [
        {
          "output_type": "execute_result",
          "data": {
            "text/plain": [
              "['Calendar',\n",
              " 'EPOCH',\n",
              " 'FRIDAY',\n",
              " 'February',\n",
              " 'HTMLCalendar',\n",
              " 'IllegalMonthError',\n",
              " 'IllegalWeekdayError',\n",
              " 'January',\n",
              " 'LocaleHTMLCalendar',\n",
              " 'LocaleTextCalendar',\n",
              " 'MONDAY',\n",
              " 'SATURDAY',\n",
              " 'SUNDAY',\n",
              " 'THURSDAY',\n",
              " 'TUESDAY',\n",
              " 'TextCalendar',\n",
              " 'WEDNESDAY',\n",
              " '_EPOCH_ORD',\n",
              " '__all__',\n",
              " '__builtins__',\n",
              " '__cached__',\n",
              " '__doc__',\n",
              " '__file__',\n",
              " '__loader__',\n",
              " '__name__',\n",
              " '__package__',\n",
              " '__spec__',\n",
              " '_colwidth',\n",
              " '_locale',\n",
              " '_localized_day',\n",
              " '_localized_month',\n",
              " '_spacing',\n",
              " 'c',\n",
              " 'calendar',\n",
              " 'datetime',\n",
              " 'day_abbr',\n",
              " 'day_name',\n",
              " 'different_locale',\n",
              " 'error',\n",
              " 'firstweekday',\n",
              " 'format',\n",
              " 'formatstring',\n",
              " 'isleap',\n",
              " 'leapdays',\n",
              " 'main',\n",
              " 'mdays',\n",
              " 'month',\n",
              " 'month_abbr',\n",
              " 'month_name',\n",
              " 'monthcalendar',\n",
              " 'monthlen',\n",
              " 'monthrange',\n",
              " 'nextmonth',\n",
              " 'prcal',\n",
              " 'prevmonth',\n",
              " 'prmonth',\n",
              " 'prweek',\n",
              " 'repeat',\n",
              " 'setfirstweekday',\n",
              " 'sys',\n",
              " 'timegm',\n",
              " 'week',\n",
              " 'weekday',\n",
              " 'weekheader']"
            ]
          },
          "metadata": {},
          "execution_count": 14
        }
      ]
    },
    {
      "cell_type": "code",
      "source": [
        "def area_of_rectangle(length,breadth) :\n",
        "  area=length*breadth\n",
        "  print(area)\n",
        "def area_of_trapezium(p1,p2,h) :\n",
        "  area=0.5(p1+p2)*h\n",
        "  print(area)"
      ],
      "metadata": {
        "colab": {
          "base_uri": "https://localhost:8080/"
        },
        "id": "LmRAcoozyffD",
        "outputId": "cdced705-2ed1-4b93-85fd-ad7b95624c5c"
      },
      "execution_count": 15,
      "outputs": [
        {
          "output_type": "stream",
          "name": "stdout",
          "text": [
            "5226\n"
          ]
        }
      ]
    },
    {
      "cell_type": "markdown",
      "source": [
        "# New section"
      ],
      "metadata": {
        "id": "iaqpIYoW1F96"
      }
    }
  ]
}