{
  "nbformat": 4,
  "nbformat_minor": 0,
  "metadata": {
    "colab": {
      "name": "Untitled5.ipynb",
      "provenance": [],
      "collapsed_sections": [],
      "authorship_tag": "ABX9TyO6ObGUJ9yWrD3EDExipdvr",
      "include_colab_link": true
    },
    "kernelspec": {
      "name": "python3",
      "display_name": "Python 3"
    },
    "language_info": {
      "name": "python"
    }
  },
  "cells": [
    {
      "cell_type": "markdown",
      "metadata": {
        "id": "view-in-github",
        "colab_type": "text"
      },
      "source": [
        "<a href=\"https://colab.research.google.com/github/taufeeque9/FMDS/blob/main/Untitled5.ipynb\" target=\"_parent\"><img src=\"https://colab.research.google.com/assets/colab-badge.svg\" alt=\"Open In Colab\"/></a>"
      ]
    },
    {
      "cell_type": "markdown",
      "source": [
        "**Loading the data**\n"
      ],
      "metadata": {
        "id": "UQCTcsflBqtx"
      }
    },
    {
      "cell_type": "code",
      "execution_count": null,
      "metadata": {
        "id": "8-oWZXSl-AFa"
      },
      "outputs": [],
      "source": [
        "import pandas as pd\n",
        "import numpy as np\n",
        "import matplotlib.pyplot as plt"
      ]
    },
    {
      "cell_type": "markdown",
      "source": [
        "# New section"
      ],
      "metadata": {
        "id": "Bt6SLDEuEVmf"
      }
    },
    {
      "cell_type": "code",
      "source": [
        "# In read_csv() function, we have passed the raw data link at github\n",
        "data = pd.read_csv('https://raw.githubusercontent.com/tuff96/Malware-detection-using-Machine-Learning/master/data.csv', sep = '|')\n",
        "print(data.head())\n",
        "#separating input and output variables\n",
        "X = data.drop(['Name', 'md5', 'legitimate'], axis = 1)\n",
        "y = data['legitimate']"
      ],
      "metadata": {
        "colab": {
          "base_uri": "https://localhost:8080/"
        },
        "id": "WwEXV0zU-DPf",
        "outputId": "96ff7878-090a-4826-81f8-0231434b64ea"
      },
      "execution_count": null,
      "outputs": [
        {
          "output_type": "stream",
          "name": "stdout",
          "text": [
            "                                Name                               md5  \\\n",
            "0  Windows.Internal.Shell.Broker.dll  09e83f1d1c99ad33009dbe6fb129c2d9   \n",
            "1                        hidserv.dll  3030f19c6a73367d6d5eedd157f5d01a   \n",
            "2         DmApiSetExtImplDesktop.dll  8271846f8f5dd1cfddaa957b1b9da1a2   \n",
            "3               FSResizerSetup27.exe  5802b4215566bb9593a736e945a28e99   \n",
            "4                      asc-setup.exe  8cb1fb45489d065720285deeccbacd98   \n",
            "\n",
            "   Machine  SizeOfOptionalHeader  Characteristics  MajorLinkerVersion  \\\n",
            "0    34404                   240             8226                  14   \n",
            "1    34404                   240             8226                  14   \n",
            "2    34404                   240             8226                  14   \n",
            "3      332                   224              271                   6   \n",
            "4      332                   224            33167                   2   \n",
            "\n",
            "   MinorLinkerVersion  SizeOfCode  SizeOfInitializedData  \\\n",
            "0                  12      779776                 253952   \n",
            "1                  12       21504                  13312   \n",
            "2                  12       33792                  27648   \n",
            "3                   0       23552                 164864   \n",
            "4                  25       87040                  71680   \n",
            "\n",
            "   SizeOfUninitializedData  ...  ResourcesNb  ResourcesMeanEntropy  \\\n",
            "0                        0  ...            2              3.072050   \n",
            "1                        0  ...            3              3.056204   \n",
            "2                        0  ...            1              3.466474   \n",
            "3                     1024  ...            9              3.032143   \n",
            "4                        0  ...           19              4.402265   \n",
            "\n",
            "   ResourcesMinEntropy  ResourcesMaxEntropy  ResourcesMeanSize  \\\n",
            "0             2.706833             3.437268         604.000000   \n",
            "1             2.709457             3.465499         515.333333   \n",
            "2             3.466474             3.466474         980.000000   \n",
            "3             1.971335             5.102472         363.444444   \n",
            "4             2.699131             6.600332        3275.473684   \n",
            "\n",
            "   ResourcesMinSize  ResourcesMaxSize  LoadConfigurationSize  \\\n",
            "0               200              1008                    256   \n",
            "1               200               932                    256   \n",
            "2               980               980                    256   \n",
            "3                34               744                      0   \n",
            "4                16             33512                      0   \n",
            "\n",
            "   VersionInformationSize  legitimate  \n",
            "0                      16           1  \n",
            "1                      16           1  \n",
            "2                      16           1  \n",
            "3                       0           1  \n",
            "4                      15           1  \n",
            "\n",
            "[5 rows x 57 columns]\n"
          ]
        }
      ]
    },
    {
      "cell_type": "markdown",
      "source": [
        "**Understanding data**\n"
      ],
      "metadata": {
        "id": "lUTiBQ72BzSs"
      }
    },
    {
      "cell_type": "code",
      "source": [
        "data.head()"
      ],
      "metadata": {
        "colab": {
          "base_uri": "https://localhost:8080/",
          "height": 299
        },
        "id": "XZDwDl2G-Dyx",
        "outputId": "aca1868f-8410-47f9-8e9a-6c8381cb3199"
      },
      "execution_count": null,
      "outputs": [
        {
          "output_type": "execute_result",
          "data": {
            "text/plain": [
              "                                Name                               md5  \\\n",
              "0  Windows.Internal.Shell.Broker.dll  09e83f1d1c99ad33009dbe6fb129c2d9   \n",
              "1                        hidserv.dll  3030f19c6a73367d6d5eedd157f5d01a   \n",
              "2         DmApiSetExtImplDesktop.dll  8271846f8f5dd1cfddaa957b1b9da1a2   \n",
              "3               FSResizerSetup27.exe  5802b4215566bb9593a736e945a28e99   \n",
              "4                      asc-setup.exe  8cb1fb45489d065720285deeccbacd98   \n",
              "\n",
              "   Machine  SizeOfOptionalHeader  Characteristics  MajorLinkerVersion  \\\n",
              "0    34404                   240             8226                  14   \n",
              "1    34404                   240             8226                  14   \n",
              "2    34404                   240             8226                  14   \n",
              "3      332                   224              271                   6   \n",
              "4      332                   224            33167                   2   \n",
              "\n",
              "   MinorLinkerVersion  SizeOfCode  SizeOfInitializedData  \\\n",
              "0                  12      779776                 253952   \n",
              "1                  12       21504                  13312   \n",
              "2                  12       33792                  27648   \n",
              "3                   0       23552                 164864   \n",
              "4                  25       87040                  71680   \n",
              "\n",
              "   SizeOfUninitializedData  ...  ResourcesNb  ResourcesMeanEntropy  \\\n",
              "0                        0  ...            2              3.072050   \n",
              "1                        0  ...            3              3.056204   \n",
              "2                        0  ...            1              3.466474   \n",
              "3                     1024  ...            9              3.032143   \n",
              "4                        0  ...           19              4.402265   \n",
              "\n",
              "   ResourcesMinEntropy  ResourcesMaxEntropy  ResourcesMeanSize  \\\n",
              "0             2.706833             3.437268         604.000000   \n",
              "1             2.709457             3.465499         515.333333   \n",
              "2             3.466474             3.466474         980.000000   \n",
              "3             1.971335             5.102472         363.444444   \n",
              "4             2.699131             6.600332        3275.473684   \n",
              "\n",
              "   ResourcesMinSize  ResourcesMaxSize  LoadConfigurationSize  \\\n",
              "0               200              1008                    256   \n",
              "1               200               932                    256   \n",
              "2               980               980                    256   \n",
              "3                34               744                      0   \n",
              "4                16             33512                      0   \n",
              "\n",
              "   VersionInformationSize  legitimate  \n",
              "0                      16           1  \n",
              "1                      16           1  \n",
              "2                      16           1  \n",
              "3                       0           1  \n",
              "4                      15           1  \n",
              "\n",
              "[5 rows x 57 columns]"
            ],
            "text/html": [
              "\n",
              "  <div id=\"df-2aec66cb-20b9-4019-aafc-48e4ec332ccc\">\n",
              "    <div class=\"colab-df-container\">\n",
              "      <div>\n",
              "<style scoped>\n",
              "    .dataframe tbody tr th:only-of-type {\n",
              "        vertical-align: middle;\n",
              "    }\n",
              "\n",
              "    .dataframe tbody tr th {\n",
              "        vertical-align: top;\n",
              "    }\n",
              "\n",
              "    .dataframe thead th {\n",
              "        text-align: right;\n",
              "    }\n",
              "</style>\n",
              "<table border=\"1\" class=\"dataframe\">\n",
              "  <thead>\n",
              "    <tr style=\"text-align: right;\">\n",
              "      <th></th>\n",
              "      <th>Name</th>\n",
              "      <th>md5</th>\n",
              "      <th>Machine</th>\n",
              "      <th>SizeOfOptionalHeader</th>\n",
              "      <th>Characteristics</th>\n",
              "      <th>MajorLinkerVersion</th>\n",
              "      <th>MinorLinkerVersion</th>\n",
              "      <th>SizeOfCode</th>\n",
              "      <th>SizeOfInitializedData</th>\n",
              "      <th>SizeOfUninitializedData</th>\n",
              "      <th>...</th>\n",
              "      <th>ResourcesNb</th>\n",
              "      <th>ResourcesMeanEntropy</th>\n",
              "      <th>ResourcesMinEntropy</th>\n",
              "      <th>ResourcesMaxEntropy</th>\n",
              "      <th>ResourcesMeanSize</th>\n",
              "      <th>ResourcesMinSize</th>\n",
              "      <th>ResourcesMaxSize</th>\n",
              "      <th>LoadConfigurationSize</th>\n",
              "      <th>VersionInformationSize</th>\n",
              "      <th>legitimate</th>\n",
              "    </tr>\n",
              "  </thead>\n",
              "  <tbody>\n",
              "    <tr>\n",
              "      <th>0</th>\n",
              "      <td>Windows.Internal.Shell.Broker.dll</td>\n",
              "      <td>09e83f1d1c99ad33009dbe6fb129c2d9</td>\n",
              "      <td>34404</td>\n",
              "      <td>240</td>\n",
              "      <td>8226</td>\n",
              "      <td>14</td>\n",
              "      <td>12</td>\n",
              "      <td>779776</td>\n",
              "      <td>253952</td>\n",
              "      <td>0</td>\n",
              "      <td>...</td>\n",
              "      <td>2</td>\n",
              "      <td>3.072050</td>\n",
              "      <td>2.706833</td>\n",
              "      <td>3.437268</td>\n",
              "      <td>604.000000</td>\n",
              "      <td>200</td>\n",
              "      <td>1008</td>\n",
              "      <td>256</td>\n",
              "      <td>16</td>\n",
              "      <td>1</td>\n",
              "    </tr>\n",
              "    <tr>\n",
              "      <th>1</th>\n",
              "      <td>hidserv.dll</td>\n",
              "      <td>3030f19c6a73367d6d5eedd157f5d01a</td>\n",
              "      <td>34404</td>\n",
              "      <td>240</td>\n",
              "      <td>8226</td>\n",
              "      <td>14</td>\n",
              "      <td>12</td>\n",
              "      <td>21504</td>\n",
              "      <td>13312</td>\n",
              "      <td>0</td>\n",
              "      <td>...</td>\n",
              "      <td>3</td>\n",
              "      <td>3.056204</td>\n",
              "      <td>2.709457</td>\n",
              "      <td>3.465499</td>\n",
              "      <td>515.333333</td>\n",
              "      <td>200</td>\n",
              "      <td>932</td>\n",
              "      <td>256</td>\n",
              "      <td>16</td>\n",
              "      <td>1</td>\n",
              "    </tr>\n",
              "    <tr>\n",
              "      <th>2</th>\n",
              "      <td>DmApiSetExtImplDesktop.dll</td>\n",
              "      <td>8271846f8f5dd1cfddaa957b1b9da1a2</td>\n",
              "      <td>34404</td>\n",
              "      <td>240</td>\n",
              "      <td>8226</td>\n",
              "      <td>14</td>\n",
              "      <td>12</td>\n",
              "      <td>33792</td>\n",
              "      <td>27648</td>\n",
              "      <td>0</td>\n",
              "      <td>...</td>\n",
              "      <td>1</td>\n",
              "      <td>3.466474</td>\n",
              "      <td>3.466474</td>\n",
              "      <td>3.466474</td>\n",
              "      <td>980.000000</td>\n",
              "      <td>980</td>\n",
              "      <td>980</td>\n",
              "      <td>256</td>\n",
              "      <td>16</td>\n",
              "      <td>1</td>\n",
              "    </tr>\n",
              "    <tr>\n",
              "      <th>3</th>\n",
              "      <td>FSResizerSetup27.exe</td>\n",
              "      <td>5802b4215566bb9593a736e945a28e99</td>\n",
              "      <td>332</td>\n",
              "      <td>224</td>\n",
              "      <td>271</td>\n",
              "      <td>6</td>\n",
              "      <td>0</td>\n",
              "      <td>23552</td>\n",
              "      <td>164864</td>\n",
              "      <td>1024</td>\n",
              "      <td>...</td>\n",
              "      <td>9</td>\n",
              "      <td>3.032143</td>\n",
              "      <td>1.971335</td>\n",
              "      <td>5.102472</td>\n",
              "      <td>363.444444</td>\n",
              "      <td>34</td>\n",
              "      <td>744</td>\n",
              "      <td>0</td>\n",
              "      <td>0</td>\n",
              "      <td>1</td>\n",
              "    </tr>\n",
              "    <tr>\n",
              "      <th>4</th>\n",
              "      <td>asc-setup.exe</td>\n",
              "      <td>8cb1fb45489d065720285deeccbacd98</td>\n",
              "      <td>332</td>\n",
              "      <td>224</td>\n",
              "      <td>33167</td>\n",
              "      <td>2</td>\n",
              "      <td>25</td>\n",
              "      <td>87040</td>\n",
              "      <td>71680</td>\n",
              "      <td>0</td>\n",
              "      <td>...</td>\n",
              "      <td>19</td>\n",
              "      <td>4.402265</td>\n",
              "      <td>2.699131</td>\n",
              "      <td>6.600332</td>\n",
              "      <td>3275.473684</td>\n",
              "      <td>16</td>\n",
              "      <td>33512</td>\n",
              "      <td>0</td>\n",
              "      <td>15</td>\n",
              "      <td>1</td>\n",
              "    </tr>\n",
              "  </tbody>\n",
              "</table>\n",
              "<p>5 rows × 57 columns</p>\n",
              "</div>\n",
              "      <button class=\"colab-df-convert\" onclick=\"convertToInteractive('df-2aec66cb-20b9-4019-aafc-48e4ec332ccc')\"\n",
              "              title=\"Convert this dataframe to an interactive table.\"\n",
              "              style=\"display:none;\">\n",
              "        \n",
              "  <svg xmlns=\"http://www.w3.org/2000/svg\" height=\"24px\"viewBox=\"0 0 24 24\"\n",
              "       width=\"24px\">\n",
              "    <path d=\"M0 0h24v24H0V0z\" fill=\"none\"/>\n",
              "    <path d=\"M18.56 5.44l.94 2.06.94-2.06 2.06-.94-2.06-.94-.94-2.06-.94 2.06-2.06.94zm-11 1L8.5 8.5l.94-2.06 2.06-.94-2.06-.94L8.5 2.5l-.94 2.06-2.06.94zm10 10l.94 2.06.94-2.06 2.06-.94-2.06-.94-.94-2.06-.94 2.06-2.06.94z\"/><path d=\"M17.41 7.96l-1.37-1.37c-.4-.4-.92-.59-1.43-.59-.52 0-1.04.2-1.43.59L10.3 9.45l-7.72 7.72c-.78.78-.78 2.05 0 2.83L4 21.41c.39.39.9.59 1.41.59.51 0 1.02-.2 1.41-.59l7.78-7.78 2.81-2.81c.8-.78.8-2.07 0-2.86zM5.41 20L4 18.59l7.72-7.72 1.47 1.35L5.41 20z\"/>\n",
              "  </svg>\n",
              "      </button>\n",
              "      \n",
              "  <style>\n",
              "    .colab-df-container {\n",
              "      display:flex;\n",
              "      flex-wrap:wrap;\n",
              "      gap: 12px;\n",
              "    }\n",
              "\n",
              "    .colab-df-convert {\n",
              "      background-color: #E8F0FE;\n",
              "      border: none;\n",
              "      border-radius: 50%;\n",
              "      cursor: pointer;\n",
              "      display: none;\n",
              "      fill: #1967D2;\n",
              "      height: 32px;\n",
              "      padding: 0 0 0 0;\n",
              "      width: 32px;\n",
              "    }\n",
              "\n",
              "    .colab-df-convert:hover {\n",
              "      background-color: #E2EBFA;\n",
              "      box-shadow: 0px 1px 2px rgba(60, 64, 67, 0.3), 0px 1px 3px 1px rgba(60, 64, 67, 0.15);\n",
              "      fill: #174EA6;\n",
              "    }\n",
              "\n",
              "    [theme=dark] .colab-df-convert {\n",
              "      background-color: #3B4455;\n",
              "      fill: #D2E3FC;\n",
              "    }\n",
              "\n",
              "    [theme=dark] .colab-df-convert:hover {\n",
              "      background-color: #434B5C;\n",
              "      box-shadow: 0px 1px 3px 1px rgba(0, 0, 0, 0.15);\n",
              "      filter: drop-shadow(0px 1px 2px rgba(0, 0, 0, 0.3));\n",
              "      fill: #FFFFFF;\n",
              "    }\n",
              "  </style>\n",
              "\n",
              "      <script>\n",
              "        const buttonEl =\n",
              "          document.querySelector('#df-2aec66cb-20b9-4019-aafc-48e4ec332ccc button.colab-df-convert');\n",
              "        buttonEl.style.display =\n",
              "          google.colab.kernel.accessAllowed ? 'block' : 'none';\n",
              "\n",
              "        async function convertToInteractive(key) {\n",
              "          const element = document.querySelector('#df-2aec66cb-20b9-4019-aafc-48e4ec332ccc');\n",
              "          const dataTable =\n",
              "            await google.colab.kernel.invokeFunction('convertToInteractive',\n",
              "                                                     [key], {});\n",
              "          if (!dataTable) return;\n",
              "\n",
              "          const docLinkHtml = 'Like what you see? Visit the ' +\n",
              "            '<a target=\"_blank\" href=https://colab.research.google.com/notebooks/data_table.ipynb>data table notebook</a>'\n",
              "            + ' to learn more about interactive tables.';\n",
              "          element.innerHTML = '';\n",
              "          dataTable['output_type'] = 'display_data';\n",
              "          await google.colab.output.renderOutput(dataTable, element);\n",
              "          const docLink = document.createElement('div');\n",
              "          docLink.innerHTML = docLinkHtml;\n",
              "          element.appendChild(docLink);\n",
              "        }\n",
              "      </script>\n",
              "    </div>\n",
              "  </div>\n",
              "  "
            ]
          },
          "metadata": {},
          "execution_count": 41
        }
      ]
    },
    {
      "cell_type": "markdown",
      "source": [
        "\n"
      ],
      "metadata": {
        "id": "-EEGIVGqB3d-"
      }
    },
    {
      "cell_type": "markdown",
      "source": [
        ""
      ],
      "metadata": {
        "id": "fs8QDGpaBoaz"
      }
    },
    {
      "cell_type": "code",
      "source": [
        "#shape of training and test data\n",
        "print(\"Shape: \", X.shape, \"Dimension: \", X.ndim)\n",
        "print(\"Shape: \", y.shape, \"Dimension: \", y.ndim)"
      ],
      "metadata": {
        "colab": {
          "base_uri": "https://localhost:8080/"
        },
        "id": "nqMawGvS-S6b",
        "outputId": "ea82f4c8-dcde-4072-8bb6-06a5b3770ce6"
      },
      "execution_count": null,
      "outputs": [
        {
          "output_type": "stream",
          "name": "stdout",
          "text": [
            "Shape:  (10539, 54) Dimension:  2\n",
            "Shape:  (10539,) Dimension:  1\n"
          ]
        }
      ]
    },
    {
      "cell_type": "markdown",
      "source": [
        "Splitting of data into test data and train data"
      ],
      "metadata": {
        "id": "ftaTl5w5CUqW"
      }
    },
    {
      "cell_type": "code",
      "source": [
        "# import train_test_split\n",
        "from sklearn.model_selection import train_test_split"
      ],
      "metadata": {
        "id": "HYKZlNxD-bK4"
      },
      "execution_count": null,
      "outputs": []
    },
    {
      "cell_type": "code",
      "source": [
        "# split the data\n",
        "X_train, X_test, y_train, y_test = train_test_split(X,y,test_size=0.3, random_state = 42)\n",
        "\n",
        "# X_train: independent/input feature data for training the model\n",
        "# y_train: dependent/output feature data for training the model\n",
        "# X_test: independent/input feature data for testing the model; will be used to predict the output values\n",
        "# y_test: original dependent/output values of X_test; We will compare this values with our predicted values to check the performance of our built model.\n",
        " \n",
        "# test_size = 0.30: 30% of the data will go for test set and 70% of the data will go for train set\n",
        "# random_state = 42: this will fix the split i.e. there will be same split for each time you run the code"
      ],
      "metadata": {
        "id": "ub8VOOeU-gB6"
      },
      "execution_count": null,
      "outputs": []
    },
    {
      "cell_type": "markdown",
      "source": [
        "**Building model**\n"
      ],
      "metadata": {
        "id": "-DFccnoYCitU"
      }
    },
    {
      "cell_type": "code",
      "source": [
        "# import Logistic Regression from sklearn.linear_model\n",
        "from sklearn.linear_model import LogisticRegression"
      ],
      "metadata": {
        "id": "wSkM14Ax-qxo"
      },
      "execution_count": null,
      "outputs": []
    },
    {
      "cell_type": "code",
      "source": [
        "model=LogisticRegression(max_iter=50000)"
      ],
      "metadata": {
        "id": "X_TZKfgw-yPP"
      },
      "execution_count": null,
      "outputs": []
    },
    {
      "cell_type": "code",
      "source": [
        "# Fit the model\n",
        "model.fit(X_train, y_train)"
      ],
      "metadata": {
        "colab": {
          "base_uri": "https://localhost:8080/"
        },
        "id": "bQ7CNhr--3aS",
        "outputId": "a9057d56-4e25-4e16-86db-8694a4881928"
      },
      "execution_count": null,
      "outputs": [
        {
          "output_type": "execute_result",
          "data": {
            "text/plain": [
              "LogisticRegression(max_iter=50000)"
            ]
          },
          "metadata": {},
          "execution_count": 45
        }
      ]
    },
    {
      "cell_type": "markdown",
      "source": [
        "**Prediction**"
      ],
      "metadata": {
        "id": "V8ztR6ymCuVy"
      }
    },
    {
      "cell_type": "code",
      "source": [
        "predictions = model.predict(X_test)\n"
      ],
      "metadata": {
        "id": "oqo2mA79-9ly"
      },
      "execution_count": null,
      "outputs": []
    },
    {
      "cell_type": "code",
      "source": [
        "y_test.values"
      ],
      "metadata": {
        "colab": {
          "base_uri": "https://localhost:8080/"
        },
        "id": "FoUvPuR0_l4Y",
        "outputId": "8ca44a2b-0bfb-4927-b2dc-e7b6ffecfc72"
      },
      "execution_count": null,
      "outputs": [
        {
          "output_type": "execute_result",
          "data": {
            "text/plain": [
              "array([1, 1, 0, ..., 0, 0, 1])"
            ]
          },
          "metadata": {},
          "execution_count": 47
        }
      ]
    },
    {
      "cell_type": "code",
      "source": [
        "print(predictions)"
      ],
      "metadata": {
        "colab": {
          "base_uri": "https://localhost:8080/"
        },
        "id": "XFXKxawrAiux",
        "outputId": "e3ac1c65-bfaf-4778-9a4b-66028ff28cb8"
      },
      "execution_count": null,
      "outputs": [
        {
          "output_type": "stream",
          "name": "stdout",
          "text": [
            "[1 0 0 ... 0 0 0]\n"
          ]
        }
      ]
    },
    {
      "cell_type": "markdown",
      "source": [
        "**Model Performance**"
      ],
      "metadata": {
        "id": "iEy50RB4C56H"
      }
    },
    {
      "cell_type": "code",
      "source": [
        "# The confusion matrix\n",
        "from sklearn.metrics import confusion_matrix\n",
        "confusion_matrix(y_test, predictions) "
      ],
      "metadata": {
        "colab": {
          "base_uri": "https://localhost:8080/"
        },
        "id": "344r32Fb_mqf",
        "outputId": "bc19a693-7204-46d3-8f10-cba4dbe76ab8"
      },
      "execution_count": null,
      "outputs": [
        {
          "output_type": "execute_result",
          "data": {
            "text/plain": [
              "array([[2056,   34],\n",
              "       [ 106,  966]])"
            ]
          },
          "metadata": {},
          "execution_count": 35
        }
      ]
    },
    {
      "cell_type": "code",
      "source": [
        "tn, fp, fn, tp = confusion_matrix(y_test, predictions).ravel()   # ravel() will convert the 2D numpy array into 1D.\n",
        "print(tn, fp, fn, tp)"
      ],
      "metadata": {
        "colab": {
          "base_uri": "https://localhost:8080/"
        },
        "id": "qSatdxYk_wbb",
        "outputId": "4e48ff94-84bc-4bdc-e474-6401b317135d"
      },
      "execution_count": null,
      "outputs": [
        {
          "output_type": "stream",
          "name": "stdout",
          "text": [
            "2056 34 106 966\n"
          ]
        }
      ]
    },
    {
      "cell_type": "code",
      "source": [
        "from sklearn.metrics import accuracy_score"
      ],
      "metadata": {
        "id": "JrLfLe1H_zmW"
      },
      "execution_count": null,
      "outputs": []
    },
    {
      "cell_type": "code",
      "source": [
        "accuracy_score(y_test, predictions)"
      ],
      "metadata": {
        "colab": {
          "base_uri": "https://localhost:8080/"
        },
        "id": "1vTBfFTz_3a1",
        "outputId": "5a99a48f-49f0-4e9a-899b-4819619c94a3"
      },
      "execution_count": null,
      "outputs": [
        {
          "output_type": "execute_result",
          "data": {
            "text/plain": [
              "0.9557242251739405"
            ]
          },
          "metadata": {},
          "execution_count": 38
        }
      ]
    }
  ]
}
